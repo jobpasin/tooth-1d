{
 "cells": [
  {
   "cell_type": "markdown",
   "metadata": {},
   "source": [
    "## This function is used to save cross-section and transform to png image by running first two blocks"
   ]
  },
  {
   "cell_type": "markdown",
   "metadata": {},
   "source": [
    "### Current process right now:\n",
    "\n",
    "- Input: STL file, csv file\n",
    "- Run this file to get coordinate\n",
    "- Run saveplot in this file to save as png\n",
    "- Run imgtotfrecord.py to get tfrecord file\n",
    "- Run train.py "
   ]
  },
  {
   "cell_type": "code",
   "execution_count": 1,
   "metadata": {},
   "outputs": [
    {
     "name": "stdout",
     "output_type": "stream",
     "text": [
      "ImportData2D.py version: 2.3.0\n",
      "stlSlicer.py version: 1.7.5\n",
      "imgSave.py version: 1.1.0\n"
     ]
    }
   ],
   "source": [
    "# Import Libraries\n",
    "import time\n",
    "\n",
    "from ImportData2D import get_label, getFilename, get_file_name\n",
    "from stlSlicer import getSlicer, slicecoor, rotatestl\n",
    "from imgSave import saveplot\n",
    "import numpy as np\n",
    "\n",
    "np.random.seed(125)\n"
   ]
  },
  {
   "cell_type": "code",
   "execution_count": 7,
   "metadata": {},
   "outputs": [
    {
     "name": "stdout",
     "output_type": "stream",
     "text": [
      "get_file_name completed from ../global_data/ with 135 files\n",
      "Upload non one-hotted label completed (as a list): 272 examples\n",
      "Finished with 270 examples\n",
      "Number of score received: 272\n"
     ]
    }
   ],
   "source": [
    "# Get data and transformed to cross-section image\n",
    "stlName = get_file_name(folder_name='../global_data/',file_name=\"PreparationScan.stl\")\n",
    "label = get_label(\"Taper_Sum\", \"median\", double_data=True, one_hotted=False,normalized=False)\n",
    "# stlName = stlName[0:2]  #For debugging\n",
    "Degree = list([0, 45, 90, 135])\n",
    "augmentOpt = list([False, True])  # Original data once, Augmented once\n",
    "X = list()\n",
    "for i in range(len(stlName)):\n",
    "    for augment in augmentOpt:\n",
    "        points = getSlicer(stlName[i], 0, Degree, augment, axis=1)\n",
    "        X.append(points)\n",
    "# The output is list(examples) of list(degrees) of numpy array (N*2 coordinates)\n",
    "print(\"Finished with %d examples\" % len(stlpoints))\n",
    "\n",
    "print(\"Number of score received: %d\" % len(label))"
   ]
  },
  {
   "cell_type": "code",
   "execution_count": 12,
   "metadata": {},
   "outputs": [
    {
     "name": "stderr",
     "output_type": "stream",
     "text": [
      "IOPub data rate exceeded.\n",
      "The notebook server will temporarily stop sending output\n",
      "to the client in order to avoid crashing it.\n",
      "To change this limit, set the config variable\n",
      "`--NotebookApp.iopub_data_rate_limit`.\n",
      "\n",
      "Current values:\n",
      "NotebookApp.iopub_data_rate_limit=1000000.0 (bytes/sec)\n",
      "NotebookApp.rate_limit_window=3.0 (secs)\n",
      "\n"
     ]
    }
   ],
   "source": [
    "# Save data as png image\n",
    "saveplot(stlpoints, \"./data/cross_section\", \"PreparationScan\", Degree)"
   ]
  },
  {
   "cell_type": "code",
   "execution_count": 14,
   "metadata": {},
   "outputs": [
    {
     "name": "stdout",
     "output_type": "stream",
     "text": [
      "['/home/pasin/Documents/Google_Drive/Aa_TIT_LAB_Comp/Library/Tooth/Tooth/Model/global_data/Original Format Data/85101-2/PreparationScan.stl', '/home/pasin/Documents/Google_Drive/Aa_TIT_LAB_Comp/Library/Tooth/Tooth/Model/global_data/Original Format Data/85102-2/PreparationScan.stl', '/home/pasin/Documents/Google_Drive/Aa_TIT_LAB_Comp/Library/Tooth/Tooth/Model/global_data/Original Format Data/85103-2/PreparationScan.stl', '/home/pasin/Documents/Google_Drive/Aa_TIT_LAB_Comp/Library/Tooth/Tooth/Model/global_data/Original Format Data/85104-2/PreparationScan.stl', '/home/pasin/Documents/Google_Drive/Aa_TIT_LAB_Comp/Library/Tooth/Tooth/Model/global_data/Original Format Data/85105-2/PreparationScan.stl', '/home/pasin/Documents/Google_Drive/Aa_TIT_LAB_Comp/Library/Tooth/Tooth/Model/global_data/Original Format Data/85106-2/PreparationScan.stl', '/home/pasin/Documents/Google_Drive/Aa_TIT_LAB_Comp/Library/Tooth/Tooth/Model/global_data/Original Format Data/85107-2/PreparationScan.stl', '/home/pasin/Documents/Google_Drive/Aa_TIT_LAB_Comp/Library/Tooth/Tooth/Model/global_data/Original Format Data/85108-2/PreparationScan.stl', '/home/pasin/Documents/Google_Drive/Aa_TIT_LAB_Comp/Library/Tooth/Tooth/Model/global_data/Original Format Data/85109-2/PreparationScan.stl', '/home/pasin/Documents/Google_Drive/Aa_TIT_LAB_Comp/Library/Tooth/Tooth/Model/global_data/Original Format Data/85110-2/PreparationScan.stl', '/home/pasin/Documents/Google_Drive/Aa_TIT_LAB_Comp/Library/Tooth/Tooth/Model/global_data/Original Format Data/85111-2/PreparationScan.stl', '/home/pasin/Documents/Google_Drive/Aa_TIT_LAB_Comp/Library/Tooth/Tooth/Model/global_data/Original Format Data/85112-2/PreparationScan.stl', '/home/pasin/Documents/Google_Drive/Aa_TIT_LAB_Comp/Library/Tooth/Tooth/Model/global_data/Original Format Data/85113-2/PreparationScan.stl', '/home/pasin/Documents/Google_Drive/Aa_TIT_LAB_Comp/Library/Tooth/Tooth/Model/global_data/Original Format Data/85114-2/PreparationScan.stl', '/home/pasin/Documents/Google_Drive/Aa_TIT_LAB_Comp/Library/Tooth/Tooth/Model/global_data/Original Format Data/85115-2/PreparationScan.stl', '/home/pasin/Documents/Google_Drive/Aa_TIT_LAB_Comp/Library/Tooth/Tooth/Model/global_data/Original Format Data/85116-2/PreparationScan.stl', '/home/pasin/Documents/Google_Drive/Aa_TIT_LAB_Comp/Library/Tooth/Tooth/Model/global_data/Original Format Data/85117-2/PreparationScan.stl', '/home/pasin/Documents/Google_Drive/Aa_TIT_LAB_Comp/Library/Tooth/Tooth/Model/global_data/Original Format Data/85118-2/PreparationScan.stl', '/home/pasin/Documents/Google_Drive/Aa_TIT_LAB_Comp/Library/Tooth/Tooth/Model/global_data/Original Format Data/85119-2/PreparationScan.stl', '/home/pasin/Documents/Google_Drive/Aa_TIT_LAB_Comp/Library/Tooth/Tooth/Model/global_data/Original Format Data/85120-2/PreparationScan.stl', '/home/pasin/Documents/Google_Drive/Aa_TIT_LAB_Comp/Library/Tooth/Tooth/Model/global_data/Original Format Data/85121-2/PreparationScan.stl', '/home/pasin/Documents/Google_Drive/Aa_TIT_LAB_Comp/Library/Tooth/Tooth/Model/global_data/Original Format Data/85122-2/PreparationScan.stl', '/home/pasin/Documents/Google_Drive/Aa_TIT_LAB_Comp/Library/Tooth/Tooth/Model/global_data/Original Format Data/85123-2/PreparationScan.stl', '/home/pasin/Documents/Google_Drive/Aa_TIT_LAB_Comp/Library/Tooth/Tooth/Model/global_data/Original Format Data/85124-2/PreparationScan.stl', '/home/pasin/Documents/Google_Drive/Aa_TIT_LAB_Comp/Library/Tooth/Tooth/Model/global_data/Original Format Data/85125-2/PreparationScan.stl', '/home/pasin/Documents/Google_Drive/Aa_TIT_LAB_Comp/Library/Tooth/Tooth/Model/global_data/Original Format Data/85126-2/PreparationScan.stl', '/home/pasin/Documents/Google_Drive/Aa_TIT_LAB_Comp/Library/Tooth/Tooth/Model/global_data/Original Format Data/85127-2/PreparationScan.stl', '/home/pasin/Documents/Google_Drive/Aa_TIT_LAB_Comp/Library/Tooth/Tooth/Model/global_data/Original Format Data/85128-2/PreparationScan.stl', '/home/pasin/Documents/Google_Drive/Aa_TIT_LAB_Comp/Library/Tooth/Tooth/Model/global_data/Original Format Data/85129-2/PreparationScan.stl', '/home/pasin/Documents/Google_Drive/Aa_TIT_LAB_Comp/Library/Tooth/Tooth/Model/global_data/Original Format Data/85130-2/PreparationScan.stl', '/home/pasin/Documents/Google_Drive/Aa_TIT_LAB_Comp/Library/Tooth/Tooth/Model/global_data/Original Format Data/85131-2/PreparationScan.stl', '/home/pasin/Documents/Google_Drive/Aa_TIT_LAB_Comp/Library/Tooth/Tooth/Model/global_data/Original Format Data/85132-2/PreparationScan.stl', '/home/pasin/Documents/Google_Drive/Aa_TIT_LAB_Comp/Library/Tooth/Tooth/Model/global_data/Original Format Data/85133-2/PreparationScan.stl', '/home/pasin/Documents/Google_Drive/Aa_TIT_LAB_Comp/Library/Tooth/Tooth/Model/global_data/Original Format Data/85134-2/PreparationScan.stl', '/home/pasin/Documents/Google_Drive/Aa_TIT_LAB_Comp/Library/Tooth/Tooth/Model/global_data/Original Format Data/85135-2/PreparationScan.stl', '/home/pasin/Documents/Google_Drive/Aa_TIT_LAB_Comp/Library/Tooth/Tooth/Model/global_data/Original Format Data/85136-2/PreparationScan.stl', '/home/pasin/Documents/Google_Drive/Aa_TIT_LAB_Comp/Library/Tooth/Tooth/Model/global_data/Original Format Data/85137-2/PreparationScan.stl', '/home/pasin/Documents/Google_Drive/Aa_TIT_LAB_Comp/Library/Tooth/Tooth/Model/global_data/Original Format Data/85138-2/PreparationScan.stl', '/home/pasin/Documents/Google_Drive/Aa_TIT_LAB_Comp/Library/Tooth/Tooth/Model/global_data/Original Format Data/85139-2/PreparationScan.stl', '/home/pasin/Documents/Google_Drive/Aa_TIT_LAB_Comp/Library/Tooth/Tooth/Model/global_data/Original Format Data/85140-2/PreparationScan.stl', '/home/pasin/Documents/Google_Drive/Aa_TIT_LAB_Comp/Library/Tooth/Tooth/Model/global_data/Original Format Data/85141-2/PreparationScan.stl', '/home/pasin/Documents/Google_Drive/Aa_TIT_LAB_Comp/Library/Tooth/Tooth/Model/global_data/Original Format Data/85142-2/PreparationScan.stl', '/home/pasin/Documents/Google_Drive/Aa_TIT_LAB_Comp/Library/Tooth/Tooth/Model/global_data/Original Format Data/85143-2/PreparationScan.stl', '/home/pasin/Documents/Google_Drive/Aa_TIT_LAB_Comp/Library/Tooth/Tooth/Model/global_data/Original Format Data/85144-2/PreparationScan.stl', '/home/pasin/Documents/Google_Drive/Aa_TIT_LAB_Comp/Library/Tooth/Tooth/Model/global_data/Original Format Data/85145-2/PreparationScan.stl', '/home/pasin/Documents/Google_Drive/Aa_TIT_LAB_Comp/Library/Tooth/Tooth/Model/global_data/Original Format Data/85146-2/PreparationScan.stl', '/home/pasin/Documents/Google_Drive/Aa_TIT_LAB_Comp/Library/Tooth/Tooth/Model/global_data/Original Format Data/85147-2/PreparationScan.stl', '/home/pasin/Documents/Google_Drive/Aa_TIT_LAB_Comp/Library/Tooth/Tooth/Model/global_data/Original Format Data/85148-2/PreparationScan.stl', '/home/pasin/Documents/Google_Drive/Aa_TIT_LAB_Comp/Library/Tooth/Tooth/Model/global_data/Original Format Data/85150-2/PreparationScan.stl', '/home/pasin/Documents/Google_Drive/Aa_TIT_LAB_Comp/Library/Tooth/Tooth/Model/global_data/Original Format Data/85151-2/PreparationScan.stl', '/home/pasin/Documents/Google_Drive/Aa_TIT_LAB_Comp/Library/Tooth/Tooth/Model/global_data/Original Format Data/95101-2/PreparationScan.stl', '/home/pasin/Documents/Google_Drive/Aa_TIT_LAB_Comp/Library/Tooth/Tooth/Model/global_data/Original Format Data/95102-2/PreparationScan.stl', '/home/pasin/Documents/Google_Drive/Aa_TIT_LAB_Comp/Library/Tooth/Tooth/Model/global_data/Original Format Data/95103-2/PreparationScan.stl', '/home/pasin/Documents/Google_Drive/Aa_TIT_LAB_Comp/Library/Tooth/Tooth/Model/global_data/Original Format Data/95104-2/PreparationScan.stl', '/home/pasin/Documents/Google_Drive/Aa_TIT_LAB_Comp/Library/Tooth/Tooth/Model/global_data/Original Format Data/95105-2/PreparationScan.stl', '/home/pasin/Documents/Google_Drive/Aa_TIT_LAB_Comp/Library/Tooth/Tooth/Model/global_data/Original Format Data/95106-2/PreparationScan.stl', '/home/pasin/Documents/Google_Drive/Aa_TIT_LAB_Comp/Library/Tooth/Tooth/Model/global_data/Original Format Data/95107-2/PreparationScan.stl', '/home/pasin/Documents/Google_Drive/Aa_TIT_LAB_Comp/Library/Tooth/Tooth/Model/global_data/Original Format Data/95109-2/PreparationScan.stl', '/home/pasin/Documents/Google_Drive/Aa_TIT_LAB_Comp/Library/Tooth/Tooth/Model/global_data/Original Format Data/95110-2/PreparationScan.stl', '/home/pasin/Documents/Google_Drive/Aa_TIT_LAB_Comp/Library/Tooth/Tooth/Model/global_data/Original Format Data/95111-2/PreparationScan.stl', '/home/pasin/Documents/Google_Drive/Aa_TIT_LAB_Comp/Library/Tooth/Tooth/Model/global_data/Original Format Data/95112-2/PreparationScan.stl', '/home/pasin/Documents/Google_Drive/Aa_TIT_LAB_Comp/Library/Tooth/Tooth/Model/global_data/Original Format Data/95113-2/PreparationScan.stl', '/home/pasin/Documents/Google_Drive/Aa_TIT_LAB_Comp/Library/Tooth/Tooth/Model/global_data/Original Format Data/95114-2/PreparationScan.stl', '/home/pasin/Documents/Google_Drive/Aa_TIT_LAB_Comp/Library/Tooth/Tooth/Model/global_data/Original Format Data/95117-2/PreparationScan.stl', '/home/pasin/Documents/Google_Drive/Aa_TIT_LAB_Comp/Library/Tooth/Tooth/Model/global_data/Original Format Data/95118-2/PreparationScan.stl', '/home/pasin/Documents/Google_Drive/Aa_TIT_LAB_Comp/Library/Tooth/Tooth/Model/global_data/Original Format Data/95119-2/PreparationScan.stl', '/home/pasin/Documents/Google_Drive/Aa_TIT_LAB_Comp/Library/Tooth/Tooth/Model/global_data/Original Format Data/95120-2/PreparationScan.stl', '/home/pasin/Documents/Google_Drive/Aa_TIT_LAB_Comp/Library/Tooth/Tooth/Model/global_data/Original Format Data/95121-2/PreparationScan.stl', '/home/pasin/Documents/Google_Drive/Aa_TIT_LAB_Comp/Library/Tooth/Tooth/Model/global_data/Original Format Data/95122-2/PreparationScan.stl', '/home/pasin/Documents/Google_Drive/Aa_TIT_LAB_Comp/Library/Tooth/Tooth/Model/global_data/Original Format Data/95124-2/PreparationScan.stl', '/home/pasin/Documents/Google_Drive/Aa_TIT_LAB_Comp/Library/Tooth/Tooth/Model/global_data/Original Format Data/95125-2r/PreparationScan.stl', '/home/pasin/Documents/Google_Drive/Aa_TIT_LAB_Comp/Library/Tooth/Tooth/Model/global_data/Original Format Data/95126-2r/PreparationScan.stl', '/home/pasin/Documents/Google_Drive/Aa_TIT_LAB_Comp/Library/Tooth/Tooth/Model/global_data/Original Format Data/95127-2r/PreparationScan.stl', '/home/pasin/Documents/Google_Drive/Aa_TIT_LAB_Comp/Library/Tooth/Tooth/Model/global_data/Original Format Data/95128-2r/PreparationScan.stl', '/home/pasin/Documents/Google_Drive/Aa_TIT_LAB_Comp/Library/Tooth/Tooth/Model/global_data/Original Format Data/95129-2r/PreparationScan.stl', '/home/pasin/Documents/Google_Drive/Aa_TIT_LAB_Comp/Library/Tooth/Tooth/Model/global_data/Original Format Data/95130-2r/PreparationScan.stl', '/home/pasin/Documents/Google_Drive/Aa_TIT_LAB_Comp/Library/Tooth/Tooth/Model/global_data/Original Format Data/95133-2r/PreparationScan.stl', '/home/pasin/Documents/Google_Drive/Aa_TIT_LAB_Comp/Library/Tooth/Tooth/Model/global_data/Original Format Data/95134-2r/PreparationScan.stl', '/home/pasin/Documents/Google_Drive/Aa_TIT_LAB_Comp/Library/Tooth/Tooth/Model/global_data/Original Format Data/95135-2r/PreparationScan.stl', '/home/pasin/Documents/Google_Drive/Aa_TIT_LAB_Comp/Library/Tooth/Tooth/Model/global_data/Original Format Data/95138-2r/PreparationScan.stl', '/home/pasin/Documents/Google_Drive/Aa_TIT_LAB_Comp/Library/Tooth/Tooth/Model/global_data/Original Format Data/95139-2r/PreparationScan.stl', '/home/pasin/Documents/Google_Drive/Aa_TIT_LAB_Comp/Library/Tooth/Tooth/Model/global_data/Original Format Data/95140-2r/PreparationScan.stl', '/home/pasin/Documents/Google_Drive/Aa_TIT_LAB_Comp/Library/Tooth/Tooth/Model/global_data/Original Format Data/95141-2r/PreparationScan.stl', '/home/pasin/Documents/Google_Drive/Aa_TIT_LAB_Comp/Library/Tooth/Tooth/Model/global_data/Original Format Data/95142-2r/PreparationScan.stl', '/home/pasin/Documents/Google_Drive/Aa_TIT_LAB_Comp/Library/Tooth/Tooth/Model/global_data/Original Format Data/95143-2r/PreparationScan.stl', '/home/pasin/Documents/Google_Drive/Aa_TIT_LAB_Comp/Library/Tooth/Tooth/Model/global_data/Original Format Data/95144-2r/PreparationScan.stl', '/home/pasin/Documents/Google_Drive/Aa_TIT_LAB_Comp/Library/Tooth/Tooth/Model/global_data/Original Format Data/95145-2r/PreparationScan.stl', '/home/pasin/Documents/Google_Drive/Aa_TIT_LAB_Comp/Library/Tooth/Tooth/Model/global_data/Original Format Data/95146-2r/PreparationScan.stl', '/home/pasin/Documents/Google_Drive/Aa_TIT_LAB_Comp/Library/Tooth/Tooth/Model/global_data/Original Format Data/95147-2r/PreparationScan.stl', '/home/pasin/Documents/Google_Drive/Aa_TIT_LAB_Comp/Library/Tooth/Tooth/Model/global_data/Original Format Data/95148-2r/PreparationScan.stl', '/home/pasin/Documents/Google_Drive/Aa_TIT_LAB_Comp/Library/Tooth/Tooth/Model/global_data/Original Format Data/95149-2r/PreparationScan.stl', '/home/pasin/Documents/Google_Drive/Aa_TIT_LAB_Comp/Library/Tooth/Tooth/Model/global_data/Original Format Data/95150-2r/PreparationScan.stl', '/home/pasin/Documents/Google_Drive/Aa_TIT_LAB_Comp/Library/Tooth/Tooth/Model/global_data/Original Format Data/95201-2/PreparationScan.stl', '/home/pasin/Documents/Google_Drive/Aa_TIT_LAB_Comp/Library/Tooth/Tooth/Model/global_data/Original Format Data/95202-2/PreparationScan.stl', '/home/pasin/Documents/Google_Drive/Aa_TIT_LAB_Comp/Library/Tooth/Tooth/Model/global_data/Original Format Data/95203-2/PreparationScan.stl', '/home/pasin/Documents/Google_Drive/Aa_TIT_LAB_Comp/Library/Tooth/Tooth/Model/global_data/Original Format Data/95204-2/PreparationScan.stl', '/home/pasin/Documents/Google_Drive/Aa_TIT_LAB_Comp/Library/Tooth/Tooth/Model/global_data/Original Format Data/95205-2/PreparationScan.stl', '/home/pasin/Documents/Google_Drive/Aa_TIT_LAB_Comp/Library/Tooth/Tooth/Model/global_data/Original Format Data/95206-2/PreparationScan.stl', '/home/pasin/Documents/Google_Drive/Aa_TIT_LAB_Comp/Library/Tooth/Tooth/Model/global_data/Original Format Data/95207-2/PreparationScan.stl', '/home/pasin/Documents/Google_Drive/Aa_TIT_LAB_Comp/Library/Tooth/Tooth/Model/global_data/Original Format Data/95209-2/PreparationScan.stl', '/home/pasin/Documents/Google_Drive/Aa_TIT_LAB_Comp/Library/Tooth/Tooth/Model/global_data/Original Format Data/95210-2/PreparationScan.stl', '/home/pasin/Documents/Google_Drive/Aa_TIT_LAB_Comp/Library/Tooth/Tooth/Model/global_data/Original Format Data/95211-2/PreparationScan.stl', '/home/pasin/Documents/Google_Drive/Aa_TIT_LAB_Comp/Library/Tooth/Tooth/Model/global_data/Original Format Data/95212-2/PreparationScan.stl', '/home/pasin/Documents/Google_Drive/Aa_TIT_LAB_Comp/Library/Tooth/Tooth/Model/global_data/Original Format Data/95213-2/PreparationScan.stl', '/home/pasin/Documents/Google_Drive/Aa_TIT_LAB_Comp/Library/Tooth/Tooth/Model/global_data/Original Format Data/95214-2/PreparationScan.stl', '/home/pasin/Documents/Google_Drive/Aa_TIT_LAB_Comp/Library/Tooth/Tooth/Model/global_data/Original Format Data/95217-2/PreparationScan.stl', '/home/pasin/Documents/Google_Drive/Aa_TIT_LAB_Comp/Library/Tooth/Tooth/Model/global_data/Original Format Data/95218-2/PreparationScan.stl', '/home/pasin/Documents/Google_Drive/Aa_TIT_LAB_Comp/Library/Tooth/Tooth/Model/global_data/Original Format Data/95219-2/PreparationScan.stl', '/home/pasin/Documents/Google_Drive/Aa_TIT_LAB_Comp/Library/Tooth/Tooth/Model/global_data/Original Format Data/95220-2/PreparationScan.stl', '/home/pasin/Documents/Google_Drive/Aa_TIT_LAB_Comp/Library/Tooth/Tooth/Model/global_data/Original Format Data/95221-2/PreparationScan.stl', '/home/pasin/Documents/Google_Drive/Aa_TIT_LAB_Comp/Library/Tooth/Tooth/Model/global_data/Original Format Data/95222-2/PreparationScan.stl', '/home/pasin/Documents/Google_Drive/Aa_TIT_LAB_Comp/Library/Tooth/Tooth/Model/global_data/Original Format Data/95224-2/PreparationScan.stl', '/home/pasin/Documents/Google_Drive/Aa_TIT_LAB_Comp/Library/Tooth/Tooth/Model/global_data/Original Format Data/95225-2/PreparationScan.stl', '/home/pasin/Documents/Google_Drive/Aa_TIT_LAB_Comp/Library/Tooth/Tooth/Model/global_data/Original Format Data/95226-2/PreparationScan.stl', '/home/pasin/Documents/Google_Drive/Aa_TIT_LAB_Comp/Library/Tooth/Tooth/Model/global_data/Original Format Data/95227-2/PreparationScan.stl', '/home/pasin/Documents/Google_Drive/Aa_TIT_LAB_Comp/Library/Tooth/Tooth/Model/global_data/Original Format Data/95228-2/PreparationScan.stl', '/home/pasin/Documents/Google_Drive/Aa_TIT_LAB_Comp/Library/Tooth/Tooth/Model/global_data/Original Format Data/95229-2/PreparationScan.stl', '/home/pasin/Documents/Google_Drive/Aa_TIT_LAB_Comp/Library/Tooth/Tooth/Model/global_data/Original Format Data/95230-2/PreparationScan.stl', '/home/pasin/Documents/Google_Drive/Aa_TIT_LAB_Comp/Library/Tooth/Tooth/Model/global_data/Original Format Data/95233-2/PreparationScan.stl', '/home/pasin/Documents/Google_Drive/Aa_TIT_LAB_Comp/Library/Tooth/Tooth/Model/global_data/Original Format Data/95234-2/PreparationScan.stl', '/home/pasin/Documents/Google_Drive/Aa_TIT_LAB_Comp/Library/Tooth/Tooth/Model/global_data/Original Format Data/95235-2/PreparationScan.stl', '/home/pasin/Documents/Google_Drive/Aa_TIT_LAB_Comp/Library/Tooth/Tooth/Model/global_data/Original Format Data/95236-2/PreparationScan.stl', '/home/pasin/Documents/Google_Drive/Aa_TIT_LAB_Comp/Library/Tooth/Tooth/Model/global_data/Original Format Data/95238-2/PreparationScan.stl', '/home/pasin/Documents/Google_Drive/Aa_TIT_LAB_Comp/Library/Tooth/Tooth/Model/global_data/Original Format Data/95239-2/PreparationScan.stl', '/home/pasin/Documents/Google_Drive/Aa_TIT_LAB_Comp/Library/Tooth/Tooth/Model/global_data/Original Format Data/95240-2/PreparationScan.stl', '/home/pasin/Documents/Google_Drive/Aa_TIT_LAB_Comp/Library/Tooth/Tooth/Model/global_data/Original Format Data/95241-2/PreparationScan.stl', '/home/pasin/Documents/Google_Drive/Aa_TIT_LAB_Comp/Library/Tooth/Tooth/Model/global_data/Original Format Data/95242-2/PreparationScan.stl', '/home/pasin/Documents/Google_Drive/Aa_TIT_LAB_Comp/Library/Tooth/Tooth/Model/global_data/Original Format Data/95243-2/PreparationScan.stl', '/home/pasin/Documents/Google_Drive/Aa_TIT_LAB_Comp/Library/Tooth/Tooth/Model/global_data/Original Format Data/95244-2/PreparationScan.stl', '/home/pasin/Documents/Google_Drive/Aa_TIT_LAB_Comp/Library/Tooth/Tooth/Model/global_data/Original Format Data/95245-2/PreparationScan.stl', '/home/pasin/Documents/Google_Drive/Aa_TIT_LAB_Comp/Library/Tooth/Tooth/Model/global_data/Original Format Data/95246-2/PreparationScan.stl', '/home/pasin/Documents/Google_Drive/Aa_TIT_LAB_Comp/Library/Tooth/Tooth/Model/global_data/Original Format Data/95247-2/PreparationScan.stl', '/home/pasin/Documents/Google_Drive/Aa_TIT_LAB_Comp/Library/Tooth/Tooth/Model/global_data/Original Format Data/95248-2/PreparationScan.stl', '/home/pasin/Documents/Google_Drive/Aa_TIT_LAB_Comp/Library/Tooth/Tooth/Model/global_data/Original Format Data/95249-2/PreparationScan.stl', '/home/pasin/Documents/Google_Drive/Aa_TIT_LAB_Comp/Library/Tooth/Tooth/Model/global_data/Original Format Data/95250-2/PreparationScan.stl']\n"
     ]
    }
   ],
   "source": [
    "print(stlName)"
   ]
  },
  {
   "cell_type": "code",
   "execution_count": null,
   "metadata": {},
   "outputs": [],
   "source": []
  }
 ],
 "metadata": {
  "kernelspec": {
   "display_name": "Python 3",
   "language": "python",
   "name": "python3"
  },
  "language_info": {
   "codemirror_mode": {
    "name": "ipython",
    "version": 3
   },
   "file_extension": ".py",
   "mimetype": "text/x-python",
   "name": "python",
   "nbconvert_exporter": "python",
   "pygments_lexer": "ipython3",
   "version": "3.6.6"
  }
 },
 "nbformat": 4,
 "nbformat_minor": 2
}
