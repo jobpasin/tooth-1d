{
 "cells": [
  {
   "cell_type": "markdown",
   "metadata": {},
   "source": [
    "## This function is used to save cross-section and transform to png image by running first three blocks"
   ]
  },
  {
   "cell_type": "markdown",
   "metadata": {},
   "source": [
    "### Current process right now:\n",
    "\n",
    "- Input: STL file, csv file\n",
    "- Run this file to get coordinate\n",
    "- Run saveplot in this file to save as png\n",
    "- Run imgtotfrecord.py to get tfrecord file\n",
    "- Run train.py "
   ]
  },
  {
   "cell_type": "code",
   "execution_count": 1,
   "metadata": {},
   "outputs": [
    {
     "name": "stdout",
     "output_type": "stream",
     "text": [
      "ImportData2D.py version: 2.3.0\n",
      "stlSlicer.py version: 1.7.5\n",
      "imgSave.py version: 1.1.0\n"
     ]
    }
   ],
   "source": [
    "# Import Libraries\n",
    "import time\n",
    "\n",
    "from ImportData2D import get_label, getFilename, get_file_name\n",
    "from stlSlicer import getSlicer, slicecoor, rotatestl\n",
    "from imgSave import saveplot\n",
    "import numpy as np\n"
   ]
  },
  {
   "cell_type": "code",
   "execution_count": 3,
   "metadata": {},
   "outputs": [
    {
     "name": "stdout",
     "output_type": "stream",
     "text": [
      "Upload non one-hotted label completed (as a list): 272 examples\n",
      "Finished with 272 examples\n",
      "Number of score received: 272\n"
     ]
    }
   ],
   "source": [
    "# Get data and transformed to cross-section image\n",
    "stlName = get_file_name(folder_name='../global_data/',file_name=\"PreparationScan.stl\")\n",
    "label = get_label(\"Taper_Sum\", \"median\", double_data=True, one_hotted=False,normalized=False)\n",
    "# stlName = stlName[0:2]  #For debugging\n",
    "Degree = list([0, 45, 90, 135])\n",
    "augmentOpt = list([False, True])  # Original data once, Augmented once\n",
    "stlpoints = list()\n",
    "for i in range(len(stlName)):\n",
    "    for augment in augmentOpt:\n",
    "        points = getSlicer(stlName[i], 0, Degree, augment, axis=1)\n",
    "        stlpoints.append(points)\n",
    "# The output is list(examples) of list(degrees) of numpy array (N*2 coordinates)\n",
    "print(\"Finished with %d examples\" % len(stlpoints))\n",
    "\n",
    "print(\"Number of score received: %d\" % len(label))\n",
    "\n",
    "if(not (len(stlpoints)== len(label))):\n",
    "   print(\"Warning, number of image and score is not equal\")"
   ]
  },
  {
   "cell_type": "code",
   "execution_count": 4,
   "metadata": {},
   "outputs": [
    {
     "name": "stdout",
     "output_type": "stream",
     "text": [
      "Start saving images\n",
      "Finished plotting for 272 images with 4 rotations\n"
     ]
    },
    {
     "data": {
      "text/plain": [
       "<Figure size 432x288 with 0 Axes>"
      ]
     },
     "metadata": {},
     "output_type": "display_data"
    }
   ],
   "source": [
    "# Save data as png image\n",
    "saveplot(stlpoints, \"./data/cross_section\", \"PreparationScan\", Degree)"
   ]
  },
  {
   "cell_type": "markdown",
   "metadata": {},
   "source": [
    "## This function is used to get cross-section and save coordinates"
   ]
  },
  {
   "cell_type": "code",
   "execution_count": 1,
   "metadata": {},
   "outputs": [
    {
     "name": "stdout",
     "output_type": "stream",
     "text": [
      "ImportData2D.py version: 2.3.0\n",
      "stlSlicer.py version: 1.7.5\n",
      "imgSave.py version: 1.1.0\n"
     ]
    }
   ],
   "source": [
    "# Import Libraries\n",
    "import time\n",
    "\n",
    "from ImportData2D import get_label, getFilename, get_file_name\n",
    "from stlSlicer import getSlicer, slicecoor, rotatestl\n",
    "from imgSave import saveplot\n",
    "import numpy as np\n"
   ]
  },
  {
   "cell_type": "code",
   "execution_count": 3,
   "metadata": {},
   "outputs": [
    {
     "name": "stdout",
     "output_type": "stream",
     "text": [
      "get_file_name: Uploaded 136 file names\n",
      "get_label: Upload non one-hotted label completed (as a list): 272 examples\n",
      "Finished with 272 examples\n",
      "Number of score received: 272\n"
     ]
    }
   ],
   "source": [
    "# Get data and transformed to cross-section image\n",
    "stlName = get_file_name(folder_name='../global_data/',file_name=\"PreparationScan.stl\")\n",
    "label = get_label(\"Taper_Sum\", \"median\", double_data=True, one_hotted=False,normalized=False)\n",
    "# stlName = stlName[0:2]  #For debugging\n",
    "Degree = list([0, 45, 90, 135])\n",
    "augmentOpt = list([False, True])  # Original data once, Augmented once\n",
    "stlpoints = list()\n",
    "for i in range(len(stlName)):\n",
    "    for augment in augmentOpt:\n",
    "        points = getSlicer(stlName[i], 0, Degree, augment, axis=1)\n",
    "        stlpoints.append(points)\n",
    "# The output is list(examples) of list(degrees) of numpy array (N*2 coordinates)\n",
    "print(\"Finished with %d examples\" % len(stlpoints))\n",
    "\n",
    "print(\"Number of score received: %d\" % len(label))\n",
    "\n",
    "if(not (len(stlpoints)== len(label))):\n",
    "   print(\"Warning, number of image and score is not equal\")"
   ]
  },
  {
   "cell_type": "code",
   "execution_count": 5,
   "metadata": {},
   "outputs": [
    {
     "name": "stdout",
     "output_type": "stream",
     "text": [
      "<class 'numpy.ndarray'>\n"
     ]
    }
   ],
   "source": [
    "print(type(stlpoints[0][0]))"
   ]
  },
  {
   "cell_type": "code",
   "execution_count": 7,
   "metadata": {},
   "outputs": [
    {
     "name": "stdout",
     "output_type": "stream",
     "text": [
      "name\n"
     ]
    }
   ],
   "source": [
    "A = ''\n",
    "B = 'name'\n",
    "print(B+A)"
   ]
  },
  {
   "cell_type": "code",
   "execution_count": null,
   "metadata": {},
   "outputs": [],
   "source": []
  }
 ],
 "metadata": {
  "kernelspec": {
   "display_name": "Python 3",
   "language": "python",
   "name": "python3"
  },
  "language_info": {
   "codemirror_mode": {
    "name": "ipython",
    "version": 3
   },
   "file_extension": ".py",
   "mimetype": "text/x-python",
   "name": "python",
   "nbconvert_exporter": "python",
   "pygments_lexer": "ipython3",
   "version": "3.6.8"
  }
 },
 "nbformat": 4,
 "nbformat_minor": 2
}
